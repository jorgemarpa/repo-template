{
 "cells": [
  {
   "cell_type": "markdown",
   "id": "0197e545-3853-410b-b9bb-48fbfb043930",
   "metadata": {},
   "source": [
    "# Example Jupyter notebook\n",
    "\n",
    "This example notebook is to show how it can be added to the documentation with `Mkdocs`"
   ]
  },
  {
   "cell_type": "code",
   "execution_count": null,
   "id": "0d359507-8c65-4dd0-aeda-13f8a661bc1d",
   "metadata": {
    "execution": {
     "iopub.execute_input": "2025-03-25T20:14:09.596910Z",
     "iopub.status.busy": "2025-03-25T20:14:09.596703Z",
     "iopub.status.idle": "2025-03-25T20:14:11.389163Z",
     "shell.execute_reply": "2025-03-25T20:14:11.388183Z",
     "shell.execute_reply.started": "2025-03-25T20:14:09.596899Z"
    }
   },
   "outputs": [],
   "source": [
    "import numpy as np\n",
    "\n",
    "from repo_template import MyClass"
   ]
  },
  {
   "cell_type": "code",
   "execution_count": 6,
   "id": "fa086d4d",
   "metadata": {},
   "outputs": [
    {
     "data": {
      "text/plain": [
       "array([-0.79129572, -0.9398005 , -1.6903899 , -1.74192989, -1.69343703,\n",
       "       -1.27570862, -0.67638766,  0.6200366 ,  1.22451633,  0.87857577,\n",
       "       -1.61450659,  2.04116806, -1.19964749,  2.31153793,  1.08838898,\n",
       "        1.55229395, -0.90102813,  0.16606395, -0.13770921,  1.3235968 ,\n",
       "        0.39566025,  0.53656631,  1.4980336 ,  0.95384687, -0.35095408,\n",
       "       -0.86294468,  0.59957154,  0.23614157, -0.43894036, -1.40333864,\n",
       "       -0.38542375, -1.02835089,  0.17673695,  1.10192821,  1.55789799,\n",
       "        0.95317886,  0.03241093, -1.38650601,  0.34552463, -0.05478024,\n",
       "       -0.12776727, -1.4777164 ,  0.3010212 , -1.22863422, -2.34826369,\n",
       "       -0.08858167, -0.87858085,  0.42890409, -0.24994762, -0.21881426,\n",
       "       -0.482732  , -0.68211078, -2.55790557, -0.89741928, -0.02473867,\n",
       "       -1.94195675,  1.0847027 , -0.6674866 ,  0.23903453, -0.43448258,\n",
       "       -1.41316547,  0.70121513,  0.1439859 , -2.27302984, -0.37143393,\n",
       "       -0.05549079,  0.51363422,  0.59904836,  1.08351905,  0.06399775,\n",
       "        0.77295814,  0.18300243, -2.17959098,  0.43622269, -1.22151724,\n",
       "        0.37548863, -0.02117487, -0.10492146,  1.19846273, -1.79748737,\n",
       "        0.18907758, -1.18192449,  0.49735538,  0.04369216, -0.73739854,\n",
       "       -0.29176559, -0.32139532,  0.43005128,  0.06751926,  0.45526456,\n",
       "       -1.04240194,  0.22022947,  0.41146861,  0.83179325,  0.60431365,\n",
       "        0.34957219,  0.01012073, -1.04228537,  1.45365846, -0.72277632])"
      ]
     },
     "execution_count": 6,
     "metadata": {},
     "output_type": "execute_result"
    }
   ],
   "source": [
    "np.random.normal(0,1,100)"
   ]
  },
  {
   "cell_type": "code",
   "execution_count": 2,
   "id": "5e65e7af",
   "metadata": {},
   "outputs": [
    {
     "data": {
      "text/plain": [
       "43.0"
      ]
     },
     "execution_count": 2,
     "metadata": {},
     "output_type": "execute_result"
    }
   ],
   "source": [
    "mc = MyClass()\n",
    "mc.multiply(10, 4.3)"
   ]
  },
  {
   "cell_type": "code",
   "execution_count": null,
   "id": "25ce8d8f",
   "metadata": {},
   "outputs": [],
   "source": []
  }
 ],
 "metadata": {
  "kernelspec": {
   "display_name": "repo-template-Sg7sTxpR-py3.10",
   "language": "python",
   "name": "python3"
  },
  "language_info": {
   "codemirror_mode": {
    "name": "ipython",
    "version": 3
   },
   "file_extension": ".py",
   "mimetype": "text/x-python",
   "name": "python",
   "nbconvert_exporter": "python",
   "pygments_lexer": "ipython3",
   "version": "3.10.14"
  }
 },
 "nbformat": 4,
 "nbformat_minor": 5
}
